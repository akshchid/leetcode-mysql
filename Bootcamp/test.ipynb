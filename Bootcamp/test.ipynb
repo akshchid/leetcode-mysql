{
 "cells": [
  {
   "cell_type": "code",
   "execution_count": 7,
   "id": "ae25c324",
   "metadata": {},
   "outputs": [
    {
     "ename": "ValueError",
     "evalue": "invalid literal for int() with base 10: 'x=int(x)'",
     "output_type": "error",
     "traceback": [
      "\u001b[31m---------------------------------------------------------------------------\u001b[39m",
      "\u001b[31mValueError\u001b[39m                                Traceback (most recent call last)",
      "\u001b[36mCell\u001b[39m\u001b[36m \u001b[39m\u001b[32mIn[7]\u001b[39m\u001b[32m, line 3\u001b[39m\n\u001b[32m      1\u001b[39m x=\u001b[38;5;28minput\u001b[39m(\u001b[33m\"\u001b[39m\u001b[33menter first number:4\u001b[39m\u001b[33m\"\u001b[39m)\n\u001b[32m      2\u001b[39m y=\u001b[38;5;28minput\u001b[39m(\u001b[33m\"\u001b[39m\u001b[33menter second number:5\u001b[39m\u001b[33m\"\u001b[39m)\n\u001b[32m----> \u001b[39m\u001b[32m3\u001b[39m x=\u001b[38;5;28;43mint\u001b[39;49m\u001b[43m(\u001b[49m\u001b[43mx\u001b[49m\u001b[43m)\u001b[49m\n\u001b[32m      4\u001b[39m y=\u001b[38;5;28mint\u001b[39m(y)\n\u001b[32m      5\u001b[39m \u001b[38;5;28mprint\u001b[39m(x+y)\n",
      "\u001b[31mValueError\u001b[39m: invalid literal for int() with base 10: 'x=int(x)'"
     ]
    }
   ],
   "source": [
    "x=input(\"enter first number:4\")\n",
    "y=input(\"enter second number:5\")\n",
    "x=int(x)\n",
    "y=int(y)\n",
    "print(x+y)"
   ]
  },
  {
   "cell_type": "code",
   "execution_count": null,
   "id": "837aac9b",
   "metadata": {},
   "outputs": [
    {
     "name": "stdout",
     "output_type": "stream",
     "text": [
      "10\n"
     ]
    },
    {
     "ename": "TypeError",
     "evalue": "unsupported operand type(s) for *: 'NoneType' and 'int'",
     "output_type": "error",
     "traceback": [
      "\u001b[31m---------------------------------------------------------------------------\u001b[39m",
      "\u001b[31mTypeError\u001b[39m                                 Traceback (most recent call last)",
      "\u001b[36mCell\u001b[39m\u001b[36m \u001b[39m\u001b[32mIn[6]\u001b[39m\u001b[32m, line 4\u001b[39m\n\u001b[32m      2\u001b[39m y=\u001b[32m4\u001b[39m\n\u001b[32m      3\u001b[39m z=\u001b[32m3\u001b[39m\n\u001b[32m----> \u001b[39m\u001b[32m4\u001b[39m \u001b[38;5;28;43mprint\u001b[39;49m\u001b[43m(\u001b[49m\u001b[43mx\u001b[49m\u001b[43m+\u001b[49m\u001b[43my\u001b[49m\u001b[43m)\u001b[49m\u001b[43m*\u001b[49m\u001b[43mz\u001b[49m\n",
      "\u001b[31mTypeError\u001b[39m: unsupported operand type(s) for *: 'NoneType' and 'int'"
     ]
    }
   ],
   "source": [
    "x=6\n",
    "y=4\n",
    "z=3\n",
    "print(x+y)*z"
   ]
  },
  {
   "cell_type": "code",
   "execution_count": 5,
   "id": "89939710",
   "metadata": {},
   "outputs": [
    {
     "name": "stdout",
     "output_type": "stream",
     "text": [
      "18\n"
     ]
    }
   ],
   "source": [
    "x=6\n",
    "y=4\n",
    "z=3\n",
    "print(x+y*z)"
   ]
  },
  {
   "cell_type": "code",
   "execution_count": 4,
   "id": "ec83b4bf",
   "metadata": {},
   "outputs": [
    {
     "name": "stdout",
     "output_type": "stream",
     "text": [
      "5\n"
     ]
    }
   ],
   "source": [
    "x=35\n",
    "y=6\n",
    "print(x%y)"
   ]
  },
  {
   "cell_type": "code",
   "execution_count": 3,
   "id": "a5b8d181",
   "metadata": {},
   "outputs": [
    {
     "name": "stdout",
     "output_type": "stream",
     "text": [
      "9.0\n"
     ]
    }
   ],
   "source": [
    "x=45\n",
    "y=5\n",
    "print(45/5)"
   ]
  },
  {
   "cell_type": "code",
   "execution_count": null,
   "id": "bc2bf01d",
   "metadata": {},
   "outputs": [],
   "source": [
    "x= input(\"enter first number:\")\n",
    "y= input(\"enter second number:\")\n",
    "x= int(x)\n",
    "y= int(y)\n",
    "print(x+y)"
   ]
  },
  {
   "cell_type": "code",
   "execution_count": 2,
   "id": "46d3a653",
   "metadata": {},
   "outputs": [
    {
     "name": "stdout",
     "output_type": "stream",
     "text": [
      "48\n"
     ]
    }
   ],
   "source": [
    "x= 8\n",
    "y= 6\n",
    "print(8*6)\n"
   ]
  },
  {
   "cell_type": "code",
   "execution_count": 1,
   "id": "cb7bec48",
   "metadata": {},
   "outputs": [
    {
     "name": "stdout",
     "output_type": "stream",
     "text": [
      "38\n"
     ]
    }
   ],
   "source": [
    "x=25\n",
    "y=13\n",
    "print(x+y)"
   ]
  },
  {
   "cell_type": "code",
   "execution_count": 1,
   "id": "e772f228",
   "metadata": {},
   "outputs": [
    {
     "name": "stdout",
     "output_type": "stream",
     "text": [
      "hello\n",
      "False\n"
     ]
    }
   ],
   "source": [
    "#write a statement to display hello\n",
    "print(\"hello\")\n",
    "a=10\n",
    "b=20\n",
    "print(a==b)"
   ]
  },
  {
   "cell_type": "code",
   "execution_count": 2,
   "id": "8f4c3371",
   "metadata": {},
   "outputs": [
    {
     "data": {
      "text/plain": [
       "18"
      ]
     },
     "execution_count": 2,
     "metadata": {},
     "output_type": "execute_result"
    }
   ],
   "source": [
    "6+4*3"
   ]
  },
  {
   "cell_type": "code",
   "execution_count": 3,
   "id": "a46df3c2",
   "metadata": {},
   "outputs": [
    {
     "data": {
      "text/plain": [
       "30"
      ]
     },
     "execution_count": 3,
     "metadata": {},
     "output_type": "execute_result"
    }
   ],
   "source": [
    "(6+4)*3"
   ]
  },
  {
   "cell_type": "code",
   "execution_count": 4,
   "id": "cfea0ac7",
   "metadata": {},
   "outputs": [
    {
     "ename": "NameError",
     "evalue": "name 'x' is not defined",
     "output_type": "error",
     "traceback": [
      "\u001b[31m---------------------------------------------------------------------------\u001b[39m",
      "\u001b[31mNameError\u001b[39m                                 Traceback (most recent call last)",
      "\u001b[36mCell\u001b[39m\u001b[36m \u001b[39m\u001b[32mIn[4]\u001b[39m\u001b[32m, line 1\u001b[39m\n\u001b[32m----> \u001b[39m\u001b[32m1\u001b[39m x=\u001b[38;5;28minput\u001b[39m(\u001b[33m\"\u001b[39m\u001b[33menter a number:\u001b[39m\u001b[33m\"\u001b[39m,\u001b[43mx\u001b[49m)\n\u001b[32m      2\u001b[39m \u001b[38;5;28mprint\u001b[39m(x)\n",
      "\u001b[31mNameError\u001b[39m: name 'x' is not defined"
     ]
    }
   ],
   "source": [
    "x=input(\"enter a number:\",x)\n",
    "print(x)"
   ]
  },
  {
   "cell_type": "code",
   "execution_count": 5,
   "id": "d66068b4",
   "metadata": {},
   "outputs": [
    {
     "data": {
      "text/plain": [
       "True"
      ]
     },
     "execution_count": 5,
     "metadata": {},
     "output_type": "execute_result"
    }
   ],
   "source": [
    "5==5"
   ]
  },
  {
   "cell_type": "code",
   "execution_count": 6,
   "id": "f2501622",
   "metadata": {},
   "outputs": [
    {
     "data": {
      "text/plain": [
       "True"
      ]
     },
     "execution_count": 6,
     "metadata": {},
     "output_type": "execute_result"
    }
   ],
   "source": [
    "7!=9"
   ]
  },
  {
   "cell_type": "code",
   "execution_count": 7,
   "id": "ab5c1d4c",
   "metadata": {},
   "outputs": [
    {
     "data": {
      "text/plain": [
       "True"
      ]
     },
     "execution_count": 7,
     "metadata": {},
     "output_type": "execute_result"
    }
   ],
   "source": [
    "12>10\n"
   ]
  },
  {
   "cell_type": "code",
   "execution_count": 8,
   "id": "95bc26c0",
   "metadata": {},
   "outputs": [
    {
     "name": "stdout",
     "output_type": "stream",
     "text": [
      "good Morning\n"
     ]
    }
   ],
   "source": [
    "print(\"good\"+\" \"+\"Morning\")"
   ]
  },
  {
   "cell_type": "code",
   "execution_count": 9,
   "id": "45516ab7",
   "metadata": {},
   "outputs": [
    {
     "ename": "SyntaxError",
     "evalue": "invalid syntax (2535061477.py, line 2)",
     "output_type": "error",
     "traceback": [
      "  \u001b[36mCell\u001b[39m\u001b[36m \u001b[39m\u001b[32mIn[9]\u001b[39m\u001b[32m, line 2\u001b[39m\n\u001b[31m    \u001b[39m\u001b[31mprint(0:4)\u001b[39m\n           ^\n\u001b[31mSyntaxError\u001b[39m\u001b[31m:\u001b[39m invalid syntax\n"
     ]
    }
   ],
   "source": [
    "x=\"Programming\"\n",
    "print(0:4)"
   ]
  },
  {
   "cell_type": "code",
   "execution_count": 10,
   "id": "143f6d25",
   "metadata": {},
   "outputs": [
    {
     "name": "stdout",
     "output_type": "stream",
     "text": [
      "30\n"
     ]
    }
   ],
   "source": [
    "x=input(\" enter first number:\")\n",
    "y=input(\"enter second number\")\n",
    "x=int(x)\n",
    "y=int(y)\n",
    "print(x+y)"
   ]
  },
  {
   "cell_type": "code",
   "execution_count": 11,
   "id": "f1d3eb81",
   "metadata": {},
   "outputs": [
    {
     "name": "stdout",
     "output_type": "stream",
     "text": [
      "26\n"
     ]
    }
   ],
   "source": [
    "x=input(\"enter my number\")\n",
    "x=int(x)\n",
    "print(x)"
   ]
  },
  {
   "cell_type": "code",
   "execution_count": 12,
   "id": "b52cbc8e",
   "metadata": {},
   "outputs": [],
   "source": [
    "a=2.5"
   ]
  },
  {
   "cell_type": "code",
   "execution_count": 13,
   "id": "b91dd1c5",
   "metadata": {},
   "outputs": [
    {
     "data": {
      "text/plain": [
       "2"
      ]
     },
     "execution_count": 13,
     "metadata": {},
     "output_type": "execute_result"
    }
   ],
   "source": [
    "int(a)"
   ]
  },
  {
   "cell_type": "code",
   "execution_count": 14,
   "id": "0b27af2f",
   "metadata": {},
   "outputs": [],
   "source": [
    "import math"
   ]
  },
  {
   "cell_type": "code",
   "execution_count": 15,
   "id": "7f5417e7",
   "metadata": {},
   "outputs": [
    {
     "name": "stdout",
     "output_type": "stream",
     "text": [
      "3.141592653589793\n"
     ]
    }
   ],
   "source": [
    "pie_value= math.pi\n",
    "print(pie_value)\n"
   ]
  },
  {
   "cell_type": "code",
   "execution_count": null,
   "id": "ced532df",
   "metadata": {},
   "outputs": [],
   "source": [
    "def greet(name):\n",
    "    print(\"my name is:\", name)\n",
    "    "
   ]
  },
  {
   "cell_type": "code",
   "execution_count": 6,
   "id": "d0086bbc",
   "metadata": {},
   "outputs": [
    {
     "name": "stdout",
     "output_type": "stream",
     "text": [
      "my name is ('hello', {'alice'})\n"
     ]
    }
   ],
   "source": [
    "def greet(name):\n",
    "    return f\"hello\",{name}\n",
    "\n",
    "result= greet(\"alice\")\n",
    "print(\"my name is\",result)"
   ]
  },
  {
   "cell_type": "code",
   "execution_count": 7,
   "id": "1b07e44b",
   "metadata": {},
   "outputs": [
    {
     "name": "stdout",
     "output_type": "stream",
     "text": [
      "sum is: 11\n"
     ]
    }
   ],
   "source": [
    "def addition(a,b):\n",
    "    return a+b\n",
    "result=addition(5,6)\n",
    "print(\"sum is:\",result)\n"
   ]
  },
  {
   "cell_type": "code",
   "execution_count": 8,
   "id": "5b8661ef",
   "metadata": {},
   "outputs": [
    {
     "name": "stdout",
     "output_type": "stream",
     "text": [
      "Total is: 24\n"
     ]
    }
   ],
   "source": [
    "def multiplication_of_number(a,b,c):\n",
    "    return a*b*c\n",
    "result=multiplication_of_number(2,3,4)\n",
    "print(\"Total is:\",result)\n"
   ]
  },
  {
   "cell_type": "code",
   "execution_count": 9,
   "id": "4ca11cee",
   "metadata": {},
   "outputs": [
    {
     "name": "stdout",
     "output_type": "stream",
     "text": [
      "my name is ('hello', 'Alice')\n"
     ]
    }
   ],
   "source": [
    "def greet(name):\n",
    "    return (\"hello\",name)\n",
    "\n",
    "result= greet(\"Alice\")\n",
    "print(\"my name is\",result)"
   ]
  },
  {
   "cell_type": "code",
   "execution_count": 14,
   "id": "e56bd56b",
   "metadata": {},
   "outputs": [
    {
     "name": "stdout",
     "output_type": "stream",
     "text": [
      "hello, Alice\n",
      "hello, friend\n"
     ]
    }
   ],
   "source": [
    "def greet(name=\"friend\"):\n",
    "    print(\"hello,\", name)\n",
    "\n",
    "greet(\"Alice\")\n",
    "greet()    "
   ]
  },
  {
   "cell_type": "code",
   "execution_count": 16,
   "id": "5ae9d9f9",
   "metadata": {},
   "outputs": [
    {
     "name": "stdout",
     "output_type": "stream",
     "text": [
      "my favourite color is blue\n"
     ]
    }
   ],
   "source": [
    "def get_favorite_color():\n",
    "    return \"blue\"\n",
    "result=get_favorite_color()\n",
    "print(\"my favourite color is\",result)"
   ]
  },
  {
   "cell_type": "code",
   "execution_count": 18,
   "id": "3a10deaa",
   "metadata": {},
   "outputs": [
    {
     "name": "stdout",
     "output_type": "stream",
     "text": [
      "hello Alice\n"
     ]
    }
   ],
   "source": [
    "def greet(name):\n",
    "    print(\"hello\", name)\n",
    "\n",
    "greet(\"Alice\")    "
   ]
  },
  {
   "cell_type": "code",
   "execution_count": 19,
   "id": "c9364dcd",
   "metadata": {},
   "outputs": [
    {
     "name": "stdout",
     "output_type": "stream",
     "text": [
      "hello\n"
     ]
    }
   ],
   "source": [
    "def say_hello():\n",
    "    print(\"hello\")\n",
    "say_hello()       "
   ]
  },
  {
   "cell_type": "code",
   "execution_count": null,
   "id": "a8418363",
   "metadata": {},
   "outputs": [
    {
     "name": "stdout",
     "output_type": "stream",
     "text": [
      "The answer is, 9\n"
     ]
    }
   ],
   "source": [
    "# write a function that squares a number given as a parameter\n",
    "def square_of_number(num):\n",
    "    return num* num\n",
    "\n",
    "result= square_of_number(3)\n",
    "print(\"The answer is,\",result)\n",
    "\n",
    "def square_of_num(num):\n",
    "    return num*num\n",
    "square_of_num(5)"
   ]
  },
  {
   "cell_type": "code",
   "execution_count": 61,
   "id": "4077a40a",
   "metadata": {},
   "outputs": [
    {
     "name": "stdout",
     "output_type": "stream",
     "text": [
      "number is, 42\n"
     ]
    },
    {
     "data": {
      "text/plain": [
       "42"
      ]
     },
     "execution_count": 61,
     "metadata": {},
     "output_type": "execute_result"
    }
   ],
   "source": [
    "# create a function that takes no parameter but returns number 42\n",
    "def no_number(num=\"any number\"):\n",
    "    print(\"number is,\",42)\n",
    "\n",
    "no_number()\n",
    "\n",
    "def func_42():\n",
    "    return 42\n",
    "func_42()\n"
   ]
  },
  {
   "cell_type": "code",
   "execution_count": 36,
   "id": "868fa923",
   "metadata": {},
   "outputs": [
    {
     "name": "stdout",
     "output_type": "stream",
     "text": [
      "False\n",
      "True\n"
     ]
    }
   ],
   "source": [
    "# create a function that takes number and returns true if its even otherwise odd\n",
    "def is_even(num):\n",
    "    return num%2==0\n",
    "print(is_even(5))\n",
    "print(is_even(4))\n",
    "\n",
    "a=5\n",
    "b=4"
   ]
  },
  {
   "cell_type": "code",
   "execution_count": 37,
   "id": "cd40e7d4",
   "metadata": {},
   "outputs": [
    {
     "name": "stdout",
     "output_type": "stream",
     "text": [
      "The length is 9\n"
     ]
    }
   ],
   "source": [
    "# write a function that takes string and returns its lenght\n",
    "def length_of_str(str):\n",
    "    return len(str)\n",
    "result=length_of_str(\"adventure\")\n",
    "print(\"The length is\",result)"
   ]
  },
  {
   "cell_type": "code",
   "execution_count": null,
   "id": "c11f9f54",
   "metadata": {},
   "outputs": [],
   "source": []
  },
  {
   "cell_type": "code",
   "execution_count": null,
   "id": "d8085403",
   "metadata": {},
   "outputs": [
    {
     "name": "stdout",
     "output_type": "stream",
     "text": [
      "hello world\n",
      "None\n"
     ]
    }
   ],
   "source": [
    "# write a function that takes 2 string and returns them in reverse order\n",
    "def reverse_string(str1,str2):\n",
    "    print(str1,str2)\n",
    "\n",
    "print(reverse_string(\"hello\",\"world\"))\n",
    "\n"
   ]
  },
  {
   "cell_type": "code",
   "execution_count": null,
   "id": "5de37539",
   "metadata": {},
   "outputs": [
    {
     "name": "stdout",
     "output_type": "stream",
     "text": [
      "hello Amitha\n",
      "hello Guest\n",
      "hello Amitha\n"
     ]
    }
   ],
   "source": [
    "#write a function that greets the user. if no name is provided the provide greet \"Guest\"\n",
    "def greet(name=\"Guest\"):\n",
    "    print(\"hello\",name)\n",
    "greet(\"Amitha\")\n",
    "greet()\n",
    "\n",
    "def greet(name=\"guest\"):\n",
    "\n",
    "     \"\"\" args:\n",
    "        name :str =\"guest \n",
    "        this function greet the user by hello.\n",
    "        if name is not provided it uses default name i.e guest\n",
    "        \"\"\"\n",
    "    print(f\"hello {name}\")\n",
    "input_name=\"Amitha\"\n",
    "greet(input_name)"
   ]
  },
  {
   "cell_type": "code",
   "execution_count": null,
   "id": "08eaf2fa",
   "metadata": {},
   "outputs": [],
   "source": [
    "# create function to convert temperature from ceilsius to farahelt with default temp as 25c.\n",
    "\n",
    "def cel_to_fah(temp_in_c=25):\n",
    "    #formula\n",
    "    temp_in_fah= 56+ temp_in_c\n",
    "    return temp_in_fah\n",
    "    \n",
    "x=cel_to_fah(35)\n",
    "print(x)\n",
    "x=cel_to_fah()\n",
    "print(x)    "
   ]
  },
  {
   "cell_type": "code",
   "execution_count": null,
   "id": "e36390bb",
   "metadata": {},
   "outputs": [
    {
     "name": "stdout",
     "output_type": "stream",
     "text": [
      "largest number is: 9\n"
     ]
    }
   ],
   "source": [
    "# make a function that takes a list of numbers and returns the largest\n",
    "def list_of_numbers(num1,num2,num3,num4):\n",
    "    return largest_num(Int)\n",
    "\n",
    "largest_number_in=(23,45,56,19)\n",
    "print(\"largest number is:\", result)\n",
    "\n",
    "# print largest from lists\n"
   ]
  },
  {
   "cell_type": "code",
   "execution_count": null,
   "id": "6600a54f",
   "metadata": {},
   "outputs": [
    {
     "name": "stdout",
     "output_type": "stream",
     "text": [
      "maximum number from the list is: 98\n",
      "98\n"
     ]
    }
   ],
   "source": [
    "def max_list(num_list):\n",
    "        max_num=max(num_list)\n",
    "        min_num= min(min_list)\n",
    "        print(\"maximum number from the list is:\",max_num)\n",
    "        return max_num\n",
    "my_list= [23,5,9,11,98]\n",
    "max_n=max_list(my_list)\n",
    "\n",
    "\n",
    "def max_num(my_list):\n",
    "        max_num= 0\n",
    "        for n in my_list:\n",
    "            if n>max_num:\n",
    "                max_num=n\n",
    "\n",
    "        print(max_num)\n",
    "max_num(my_list)\n"
   ]
  },
  {
   "cell_type": "code",
   "execution_count": 53,
   "id": "0c7867cd",
   "metadata": {},
   "outputs": [
    {
     "name": "stdout",
     "output_type": "stream",
     "text": [
      "sum and product is: (8, 15)\n"
     ]
    }
   ],
   "source": [
    "# create a function that takes two number and return both their sum and product\n",
    "def sum_and_multiplication (a,b):\n",
    "    return (a+b),(a*b)\n",
    "\n",
    "result = sum_and_multiplication(3,5)\n",
    "print(\"sum and product is:\",result)"
   ]
  },
  {
   "cell_type": "code",
   "execution_count": 55,
   "id": "660f7fa7",
   "metadata": {},
   "outputs": [
    {
     "name": "stdout",
     "output_type": "stream",
     "text": [
      "True\n",
      "False\n"
     ]
    }
   ],
   "source": [
    "# write a function that returns wheather a given year is leap year\n",
    "def is_year_leap(num):\n",
    "    return num % 4==0\n",
    "print(is_year_leap(2020)) \n",
    "print(is_year_leap(2021))\n",
    "\n",
    "a=2020\n",
    "b=2021\n",
    "\n",
    "            "
   ]
  },
  {
   "cell_type": "code",
   "execution_count": 57,
   "id": "8c8ab3f0",
   "metadata": {},
   "outputs": [
    {
     "name": "stdout",
     "output_type": "stream",
     "text": [
      "This word has, 8 charector\n"
     ]
    }
   ],
   "source": [
    "#write a function that takes a sentence and returns the numbers of words\n",
    "def length_of_word(str):\n",
    "    return len(str)\n",
    "result = length_of_word(\"Adorable\")\n",
    "print(\"This word has,\", result, \"charector\")"
   ]
  }
 ],
 "metadata": {
  "kernelspec": {
   "display_name": "Python 3",
   "language": "python",
   "name": "python3"
  },
  "language_info": {
   "codemirror_mode": {
    "name": "ipython",
    "version": 3
   },
   "file_extension": ".py",
   "mimetype": "text/x-python",
   "name": "python",
   "nbconvert_exporter": "python",
   "pygments_lexer": "ipython3",
   "version": "3.13.5"
  }
 },
 "nbformat": 4,
 "nbformat_minor": 5
}
